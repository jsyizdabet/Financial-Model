{
 "cells": [
  {
   "cell_type": "markdown",
   "metadata": {},
   "source": [
    "Fuction defines the Black Scholes Model to calculate the price of European options using the BSM formula.\n",
    "\n",
    "Where:\n",
    "- S: the spot price \n",
    "- K: the strike price\n",
    "- T: time to maturity\n",
    "- r: the risk-free rate\n",
    "- sigma: volatility\n"
   ]
  },
  {
   "cell_type": "code",
   "execution_count": 1,
   "metadata": {},
   "outputs": [
    {
     "name": "stdout",
     "output_type": "stream",
     "text": [
      "Stock Price: $100\n",
      "Strike Price: $110\n",
      "Time to Expiry: 1 year\n",
      "Risk-Free Interest Rate: 0.05\n",
      "Volatility: 0.2\n",
      "\n",
      "European Call Option Price: $6.04\n",
      "European Put Option Price: $10.68\n"
     ]
    }
   ],
   "source": [
    "import numpy as np\n",
    "from scipy.stats import norm\n",
    "\n",
    "def black_scholes_call(S, K, T, r, sigma):\n",
    "    d1 = (np.log(S / K) + (r + 0.5 * sigma**2) * T) / (sigma * np.sqrt(T))\n",
    "    d2 = d1 - sigma * np.sqrt(T)\n",
    "    call_price = S * norm.cdf(d1) - K * np.exp(-r * T) * norm.cdf(d2)\n",
    "    return call_price\n",
    "\n",
    "def black_scholes_put(S, K, T, r, sigma):\n",
    "    d1 = (np.log(S / K) + (r + 0.5 * sigma**2) * T) / (sigma * np.sqrt(T))\n",
    "    d2 = d1 - sigma * np.sqrt(T)\n",
    "    put_price = K * np.exp(-r * T) * norm.cdf(-d2) - S * norm.cdf(-d1)\n",
    "    return put_price\n",
    "\n",
    "# Example usage for stock options\n",
    "stock_price = 100  # Current stock price\n",
    "strike_price = 110  # Option strike price\n",
    "time_to_expiry = 1  # Time to expiration in years\n",
    "risk_free_rate = 0.05  # Risk-free interest rate\n",
    "volatility = 0.2  # Volatility of the underlying stock\n",
    "\n",
    "call_option_price = black_scholes_call(stock_price, strike_price, time_to_expiry, risk_free_rate, volatility)\n",
    "put_option_price = black_scholes_put(stock_price, strike_price, time_to_expiry, risk_free_rate, volatility)\n",
    "\n",
    "print(f\"Stock Price: ${stock_price}\")\n",
    "print(f\"Strike Price: ${strike_price}\")\n",
    "print(f\"Time to Expiry: {time_to_expiry} year\")\n",
    "print(f\"Risk-Free Interest Rate: {risk_free_rate}\")\n",
    "print(f\"Volatility: {volatility}\")\n",
    "\n",
    "print(f\"\\nEuropean Call Option Price: ${call_option_price:.2f}\")\n",
    "print(f\"European Put Option Price: ${put_option_price:.2f}\")\n",
    "\n",
    "#Result:\n",
    "# Stock Price: $100\n",
    "# Strike Price: $110\n",
    "# Time to Expiry: 1 year\n",
    "# Risk-Free Interest Rate: 0.05\n",
    "# Volatility: 0.2\n",
    "\n",
    "# European Call Option Price: $6.04\n",
    "# European Put Option Price: $10.68"
   ]
  },
  {
   "cell_type": "code",
   "execution_count": 2,
   "metadata": {},
   "outputs": [
    {
     "name": "stdout",
     "output_type": "stream",
     "text": [
      "Index Value: 1500\n",
      "Strike Price: 1520\n",
      "Time to Expiry: 0.5 year\n",
      "Risk-Free Interest Rate: 0.03\n",
      "Volatility: 0.15\n",
      "\n",
      "European Call Option Price: 64.71\n",
      "European Put Option Price: 62.08\n"
     ]
    }
   ],
   "source": [
    "#Example parameters for an index option\n",
    "index_value = 1500  # Current value of the index\n",
    "strike_price = 1520  # Option strike price\n",
    "time_to_expiry = 0.5  # Time to expiration in years\n",
    "risk_free_rate = 0.03  # Risk-free interest rate\n",
    "volatility = 0.15  # Volatility of the index\n",
    "\n",
    "call_option_price = black_scholes_call(index_value, strike_price, time_to_expiry, risk_free_rate, volatility)\n",
    "put_option_price = black_scholes_put(index_value, strike_price, time_to_expiry, risk_free_rate, volatility)\n",
    "\n",
    "print(f\"Index Value: {index_value}\")\n",
    "print(f\"Strike Price: {strike_price}\")\n",
    "print(f\"Time to Expiry: {time_to_expiry} year\")\n",
    "print(f\"Risk-Free Interest Rate: {risk_free_rate}\")\n",
    "print(f\"Volatility: {volatility}\")\n",
    "\n",
    "print(f\"\\nEuropean Call Option Price: {call_option_price:.2f}\")\n",
    "print(f\"European Put Option Price: {put_option_price:.2f}\")\n",
    "\n",
    "#Results\n",
    "# Index Value: 1500\n",
    "# Strike Price: 1520\n",
    "# Time to Expiry: 0.5 year\n",
    "# Risk-Free Interest Rate: 0.03\n",
    "# Volatility: 0.15\n",
    "\n",
    "# European Call Option Price: 64.71\n",
    "# European Put Option Price: 62.08"
   ]
  },
  {
   "cell_type": "markdown",
   "metadata": {},
   "source": [
    "The Currency options is slightly different from others because we need two interest rates from two currencies.\n",
    "\n",
    "Denote:\n",
    "- r_domestic: domestic interest rate\n",
    "- r_foreign: foreign interest rate\n",
    "sigma: the volatility if the currency pair\n",
    "\n",
    "Step\n",
    "- Step1: calculate d1, d2 using formulas from BSM adjusted for currency options\n",
    "- Step2: calculate the probabolities associated with d1 and d2\n",
    "- Step3: compute the call option price based on the BSM formula for currency options"
   ]
  },
  {
   "cell_type": "code",
   "execution_count": 3,
   "metadata": {},
   "outputs": [
    {
     "name": "stdout",
     "output_type": "stream",
     "text": [
      "Spot Price (EUR/USD): 1.15\n",
      "Strike Price: 1.18\n",
      "Time to Expiry: 0.5 year\n",
      "Foreign Interest Rate (EUR): 0.02\n",
      "Domestic Interest Rate (USD): 0.03\n",
      "Volatility: 0.15\n",
      "\n",
      "European Call Option Price: 0.0330\n",
      "European Put Option Price: 0.0684\n"
     ]
    }
   ],
   "source": [
    "\n",
    "def black_scholes_currency_call(S, K, T, r_foreign, r_domestic, sigma):\n",
    "    d1 = (np.log(S / K) + (r_foreign - r_domestic + 0.5 * sigma**2) * T) / (sigma * np.sqrt(T))\n",
    "    d2 = d1 - sigma * np.sqrt(T)\n",
    "    call_price = S * np.exp(-r_domestic * T) * norm.cdf(d1) - K * np.exp(-r_foreign * T) * norm.cdf(d2)\n",
    "    return call_price\n",
    "\n",
    "def black_scholes_currency_put(S, K, T, r_foreign, r_domestic, sigma):\n",
    "    d1 = (np.log(S / K) + (r_foreign - r_domestic + 0.5 * sigma**2) * T) / (sigma * np.sqrt(T))\n",
    "    d2 = d1 - sigma * np.sqrt(T)\n",
    "    put_price = K * np.exp(-r_foreign * T) * norm.cdf(-d2) - S * np.exp(-r_domestic * T) * norm.cdf(-d1)\n",
    "    return put_price\n",
    "\n",
    "# Example parameters for a currency option (e.g., EUR/USD)\n",
    "spot_price = 1.15  # Current spot price (exchange rate)\n",
    "strike_price = 1.18  # Option strike price (desired exchange rate)\n",
    "time_to_expiry = 0.5  # Time to expiration in years\n",
    "foreign_interest_rate = 0.02  # Foreign currency interest rate (e.g., EUR)\n",
    "domestic_interest_rate = 0.03  # Domestic currency interest rate (e.g., USD)\n",
    "volatility = 0.15  # Volatility of the currency pair\n",
    "\n",
    "call_option_price = black_scholes_currency_call(spot_price, strike_price, time_to_expiry,\n",
    "                                               foreign_interest_rate, domestic_interest_rate, volatility)\n",
    "put_option_price = black_scholes_currency_put(spot_price, strike_price, time_to_expiry,\n",
    "                                              foreign_interest_rate, domestic_interest_rate, volatility)\n",
    "\n",
    "print(f\"Spot Price (EUR/USD): {spot_price}\")\n",
    "print(f\"Strike Price: {strike_price}\")\n",
    "print(f\"Time to Expiry: {time_to_expiry} year\")\n",
    "print(f\"Foreign Interest Rate (EUR): {foreign_interest_rate}\")\n",
    "print(f\"Domestic Interest Rate (USD): {domestic_interest_rate}\")\n",
    "print(f\"Volatility: {volatility}\")\n",
    "\n",
    "print(f\"\\nEuropean Call Option Price: {call_option_price:.4f}\")\n",
    "print(f\"European Put Option Price: {put_option_price:.4f}\")\n",
    "\n",
    "#Results\n",
    "# Spot Price (EUR/USD): 1.15\n",
    "# Strike Price: 1.18\n",
    "# Time to Expiry: 0.5 year\n",
    "# Foreign Interest Rate (EUR): 0.02\n",
    "# Domestic Interest Rate (USD): 0.03\n",
    "# Volatility: 0.15\n",
    "\n",
    "# European Call Option Price: 0.0330\n",
    "# European Put Option Price: 0.0684"
   ]
  },
  {
   "cell_type": "markdown",
   "metadata": {},
   "source": [
    " Fnction to calculate the price of European call and put options using a binomial tree\n",
    "\n",
    " Denote:\n",
    " - S: spot sprice\n",
    " - K: strike price\n",
    " - T: time to maturity\n",
    " - r: risk-free interest rate\n",
    " - sigma: volatility\n",
    " - n: the number of steps in the binomial tree\n"
   ]
  },
  {
   "cell_type": "code",
   "execution_count": 4,
   "metadata": {},
   "outputs": [],
   "source": [
    "def binomial_tree_european_option(S, K, T, r, sigma, n, option_type='call'):\n",
    "    dt = T / n  # Time step\n",
    "    u = np.exp(sigma * np.sqrt(dt))  # Up movement factor\n",
    "    d = 1 / u  # Down movement factor\n",
    "    p = (np.exp(r * dt) - d) / (u - d)  # Probability of up movement\n",
    "\n",
    "    # Initialize stock price tree\n",
    "    stock_price_tree = np.zeros((n + 1, n + 1))\n",
    "    for i in range(n + 1):\n",
    "        for j in range(i + 1):\n",
    "            stock_price_tree[j, i] = S * (u ** (i - j)) * (d ** j)\n",
    "\n",
    "    # Initialize option value tree at maturity\n",
    "    option_value_tree = np.zeros((n + 1, n + 1))\n",
    "    if option_type == 'call':\n",
    "        option_value_tree[:, n] = np.maximum(0, stock_price_tree[:, n] - K)\n",
    "    elif option_type == 'put':\n",
    "        option_value_tree[:, n] = np.maximum(0, K - stock_price_tree[:, n])\n",
    "\n",
    "    # Calculate option price at earlier nodes\n",
    "    for i in range(n - 1, -1, -1):\n",
    "        for j in range(i + 1):\n",
    "            option_value_tree[j, i] = np.exp(-r * dt) * (p * option_value_tree[j, i + 1] +\n",
    "                                                         (1 - p) * option_value_tree[j + 1, i + 1])\n",
    "\n",
    "    return option_value_tree[0, 0]"
   ]
  },
  {
   "cell_type": "code",
   "execution_count": 5,
   "metadata": {},
   "outputs": [
    {
     "name": "stdout",
     "output_type": "stream",
     "text": [
      "European Call Option Price using Binomial Tree: 8.03\n",
      "European Put Option Price using Binomial Tree: 7.91\n"
     ]
    }
   ],
   "source": [
    "\n",
    "# Example usage\n",
    "stock_price = 100  # Current stock price\n",
    "strike_price = 105  # Option strike price\n",
    "time_to_expiry = 1  # Time to expiration in years\n",
    "risk_free_rate = 0.05  # Risk-free interest rate\n",
    "volatility = 0.2  # Volatility of the underlying stock\n",
    "steps = 100  # Number of steps in the binomial tree\n",
    "\n",
    "call_option_price = binomial_tree_european_option(stock_price, strike_price, time_to_expiry,\n",
    "                                                   risk_free_rate, volatility, steps, option_type='call')\n",
    "put_option_price = binomial_tree_european_option(stock_price, strike_price, time_to_expiry,\n",
    "                                                  risk_free_rate, volatility, steps, option_type='put')\n",
    "\n",
    "print(f\"European Call Option Price using Binomial Tree: {call_option_price:.2f}\")\n",
    "print(f\"European Put Option Price using Binomial Tree: {put_option_price:.2f}\")\n",
    "\n",
    "# European Call Option Price using Binomial Tree: 8.03\n",
    "# European Put Option Price using Binomial Tree: 7.91"
   ]
  },
  {
   "cell_type": "markdown",
   "metadata": {},
   "source": [
    "### Function to calculate the price of American call and put options using the binomial tree"
   ]
  },
  {
   "cell_type": "code",
   "execution_count": 6,
   "metadata": {},
   "outputs": [],
   "source": [
    "\n",
    "def binomial_tree_american_option(S, K, T, r, sigma, n, option_type='call'):\n",
    "    dt = T / n  # Time step\n",
    "    u = np.exp(sigma * np.sqrt(dt))  # Up movement factor\n",
    "    d = 1 / u  # Down movement factor\n",
    "    p = (np.exp(r * dt) - d) / (u - d)  # Probability of up movement\n",
    "\n",
    "    # Initialize stock price tree\n",
    "    stock_price_tree = np.zeros((n + 1, n + 1))\n",
    "    for i in range(n + 1):\n",
    "        for j in range(i + 1):\n",
    "            stock_price_tree[j, i] = S * (u ** (i - j)) * (d ** j)\n",
    "\n",
    "    # Initialize option value tree at maturity\n",
    "    option_value_tree = np.zeros((n + 1, n + 1))\n",
    "    if option_type == 'call':\n",
    "        option_value_tree[:, n] = np.maximum(0, stock_price_tree[:, n] - K)\n",
    "    elif option_type == 'put':\n",
    "        option_value_tree[:, n] = np.maximum(0, K - stock_price_tree[:, n])\n",
    "\n",
    "    # Calculate option price at earlier nodes\n",
    "    for i in range(n - 1, -1, -1):\n",
    "        for j in range(i + 1):\n",
    "            if option_type == 'call':\n",
    "                early_exercise = stock_price_tree[j, i] - K\n",
    "            elif option_type == 'put':\n",
    "                early_exercise = K - stock_price_tree[j, i]\n",
    "                option_value_tree[j, i] = max(early_exercise, np.exp(-r * dt) * (p * option_value_tree[j, i + 1] + (1 - p) * option_value_tree[j + 1, i + 1]))\n",
    "\n",
    "    return option_value_tree[0, 0]"
   ]
  },
  {
   "cell_type": "code",
   "execution_count": 7,
   "metadata": {},
   "outputs": [
    {
     "name": "stdout",
     "output_type": "stream",
     "text": [
      "American Call Option Price using Binomial Tree: 8.03\n",
      "American Put Option Price using Binomial Tree: 8.75\n"
     ]
    }
   ],
   "source": [
    "\n",
    "# Example usage\n",
    "stock_price = 100  # Current stock price\n",
    "strike_price = 105  # Option strike price\n",
    "time_to_expiry = 1  # Time to expiration in years\n",
    "risk_free_rate = 0.05  # Risk-free interest rate\n",
    "volatility = 0.2  # Volatility of the underlying stock\n",
    "steps = 100  # Number of steps in the binomial tree\n",
    "\n",
    "call_option_price_american = binomial_tree_american_option(stock_price, strike_price, time_to_expiry,\n",
    "                                                           risk_free_rate, volatility, steps, option_type='call')\n",
    "put_option_price_american = binomial_tree_american_option(stock_price, strike_price, time_to_expiry,\n",
    "                                                          risk_free_rate, volatility, steps, option_type='put')\n",
    "\n",
    "print(f\"American Call Option Price using Binomial Tree: {call_option_price_american:.2f}\")\n",
    "print(f\"American Put Option Price using Binomial Tree: {put_option_price_american:.2f}\")\n",
    "\n",
    "#Result:\n",
    "# American Call Option Price using Binomial Tree: 8.03\n",
    "# American Put Option Price using Binomial Tree: 8.75"
   ]
  },
  {
   "cell_type": "code",
   "execution_count": 15,
   "metadata": {},
   "outputs": [],
   "source": [
    "def binomial_tree_american_option(S, K, T, r, sigma, n, option_type='call'):\n",
    "    dt = T / n  # Time step\n",
    "    u = np.exp(sigma * np.sqrt(dt))  # Up movement factor\n",
    "    d = 1 / u  # Down movement factor\n",
    "    p = (np.exp(r * dt) - d) / (u - d)  # Probability of up movement\n",
    "\n",
    "    # Initialize stock price tree\n",
    "    stock_price_tree = np.zeros((n + 1, n + 1))\n",
    "    for i in range(n + 1):\n",
    "        for j in range(i + 1):\n",
    "            stock_price_tree[j, i] = S * (u ** (i - j)) * (d ** j)\n",
    "    return stock_price_tree[j,i]"
   ]
  },
  {
   "cell_type": "code",
   "execution_count": 18,
   "metadata": {},
   "outputs": [
    {
     "name": "stdout",
     "output_type": "stream",
     "text": [
      "American Call Option Price using Binomial Tree: 75.36\n",
      "American Put Option Price using Binomial Tree: 75.36\n"
     ]
    }
   ],
   "source": [
    "# Example usage\n",
    "stock_price = 100  # Current stock price\n",
    "strike_price = 105  # Option strike price\n",
    "time_to_expiry = 1  # Time to expiration in years\n",
    "risk_free_rate = 0.05  # Risk-free interest rate\n",
    "volatility = 0.2  # Volatility of the underlying stock\n",
    "steps = 2  # Number of steps in the binomial tree\n",
    "\n",
    "call_option_price_american = binomial_tree_american_option(stock_price, strike_price, time_to_expiry,\n",
    "                                                           risk_free_rate, volatility, steps, option_type='call')\n",
    "put_option_price_american = binomial_tree_american_option(stock_price, strike_price, time_to_expiry,\n",
    "                                                          risk_free_rate, volatility, steps, option_type='put')\n",
    "\n",
    "print(f\"American Call Option Price using Binomial Tree: {call_option_price_american:.2f}\")\n",
    "print(f\"American Put Option Price using Binomial Tree: {put_option_price_american:.2f}\")"
   ]
  }
 ],
 "metadata": {
  "kernelspec": {
   "display_name": "Python 3",
   "language": "python",
   "name": "python3"
  },
  "language_info": {
   "codemirror_mode": {
    "name": "ipython",
    "version": 3
   },
   "file_extension": ".py",
   "mimetype": "text/x-python",
   "name": "python",
   "nbconvert_exporter": "python",
   "pygments_lexer": "ipython3",
   "version": "3.10.6"
  }
 },
 "nbformat": 4,
 "nbformat_minor": 2
}
